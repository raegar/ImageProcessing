{
  "nbformat": 4,
  "nbformat_minor": 0,
  "metadata": {
    "colab": {
      "provenance": [],
      "authorship_tag": "ABX9TyM8H6MtwcWpdEBYeOOzC41o",
      "include_colab_link": true
    },
    "kernelspec": {
      "name": "python3",
      "display_name": "Python 3"
    },
    "language_info": {
      "name": "python"
    }
  },
  "cells": [
    {
      "cell_type": "markdown",
      "metadata": {
        "id": "view-in-github",
        "colab_type": "text"
      },
      "source": [
        "<a href=\"https://colab.research.google.com/github/raegar/ImageProcessing/blob/main/Bitmap_Image_Processing_004.ipynb\" target=\"_parent\"><img src=\"https://colab.research.google.com/assets/colab-badge.svg\" alt=\"Open In Colab\"/></a>"
      ]
    },
    {
      "cell_type": "code",
      "execution_count": null,
      "metadata": {
        "id": "iSRY_NrhlmrG"
      },
      "outputs": [],
      "source": [
        "from PIL import Image\n",
        "import matplotlib.pyplot as plt\n",
        "\n",
        "# Load the image from the local file\n",
        "image_path = 'Incredible.bmp'\n",
        "image = Image.open(image_path)\n",
        "\n",
        "# Convert the image to black and white (1-bit), no dithering\n",
        "bw_image = image.convert('1', dither=Image.NONE)  # '1' mode for black and white, no dithering\n",
        "\n",
        "# Save the black and white image as a BMP\n",
        "bw_image.save(\"Incredible_bw.bmp\", format=\"BMP\")\n",
        "\n",
        "# Display the original and black & white images side by side\n",
        "plt.figure(figsize=(10, 5))\n",
        "\n",
        "# Original image\n",
        "plt.subplot(1, 2, 1)\n",
        "plt.imshow(image)\n",
        "plt.axis('off')\n",
        "plt.title(\"Original Image: Incredible.bmp\")\n",
        "\n",
        "# Black and white image\n",
        "plt.subplot(1, 2, 2)\n",
        "plt.imshow(bw_image, cmap='gray')\n",
        "plt.axis('off')\n",
        "plt.title(\"Black and White Image (1-bit)\")\n",
        "\n",
        "plt.tight_layout()\n",
        "plt.show()\n",
        "\n",
        "print(\"Black and white image saved as a 1-bit BMP: Incredible_bw.bmp\")\n"
      ]
    }
  ]
}