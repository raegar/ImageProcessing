{
  "nbformat": 4,
  "nbformat_minor": 0,
  "metadata": {
    "colab": {
      "provenance": [],
      "authorship_tag": "ABX9TyNT1K7wzAL4HndzSuVQ0DZE",
      "include_colab_link": true
    },
    "kernelspec": {
      "name": "python3",
      "display_name": "Python 3"
    },
    "language_info": {
      "name": "python"
    }
  },
  "cells": [
    {
      "cell_type": "markdown",
      "metadata": {
        "id": "view-in-github",
        "colab_type": "text"
      },
      "source": [
        "<a href=\"https://colab.research.google.com/github/raegar/ImageProcessing/blob/main/Bitmap_Image_Processing_005.ipynb\" target=\"_parent\"><img src=\"https://colab.research.google.com/assets/colab-badge.svg\" alt=\"Open In Colab\"/></a>"
      ]
    },
    {
      "cell_type": "code",
      "execution_count": null,
      "metadata": {
        "id": "iSRY_NrhlmrG"
      },
      "outputs": [],
      "source": [
        "from PIL import Image\n",
        "\n",
        "# Function to resize the image\n",
        "def resize_image(input_path, output_path, new_size=(32, 32)):\n",
        "    # Open the 1000x1000 bitmap image\n",
        "    image = Image.open(input_path)\n",
        "\n",
        "    # Check if the image is 1000x1000, if not raise an error\n",
        "    if image.size != (1000, 1000):\n",
        "        raise ValueError(f\"The input image must be 1000x1000 pixels, but got {image.size}\")\n",
        "\n",
        "    # Resize the image to 32x32 pixels using a high-quality downsampling filter\n",
        "    resized_image = image.resize(new_size, Image.NEAREST)\n",
        "\n",
        "    # Save the resized image to the output path\n",
        "    resized_image.save(output_path, format='BMP')\n",
        "\n",
        "    print(f\"Image successfully resized to {new_size} and saved as {output_path}\")\n",
        "\n",
        "# Example usage:\n",
        "input_image_path = 'Incredible_bw.bmp'\n",
        "output_image_path = 'Incredible_32x32.bmp'\n",
        "resize_image(input_image_path, output_image_path)\n"
      ]
    }
  ]
}